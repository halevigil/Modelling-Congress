{
 "cells": [
  {
   "cell_type": "code",
   "execution_count": null,
   "metadata": {},
   "outputs": [],
   "source": [
    "import json\n",
    "with open(\"outputs/buckets_07-24.json\",\"r\") as file:\n",
    "  buckets = json.load(file)\n",
    "bucket_map={action:bucket[0] for bucket in buckets for action in bucket}\n",
    "inv_bucket_map={bucket[0]:bucket for bucket in buckets}\n",
    "bucket_names = [bucket[0] for bucket in buckets]"
   ]
  },
  {
   "cell_type": "code",
   "execution_count": null,
   "metadata": {},
   "outputs": [],
   "source": [
    "import pandas as pd\n",
    "datasets = [f\"data/US/{term*2+2009-222}-{term*2+2010-222}_{term}th_Congress/csv/history.csv\" for term in range(111,120)]\n",
    "history_df_by_term=[pd.read_csv(ds) for ds in datasets]\n",
    "history_df=pd.concat([pd.read_csv(dataset) for dataset in datasets])\n",
    "# with open(\"./outputs/bucket_names_output.jsonl\", \"r\") as file:\n",
    "#   for line in file:\n",
    "#     if line.strip():  # Skip empty lines\n",
    "#       response = json.loads(line)\n",
    "#       llm_buckets.append(response[\"response\"][\"body\"][\"output\"][0][\"content\"][0][\"text\"])\n",
    "      \n",
    "# history_df[\"llm_bucket\"] = history_df[\"bucket\"].map(dict(zip(bucket_names, llm_buckets)))\n",
    "\n",
    "# Add next bill_id column to compare\n",
    "history_df[\"bucket\"]=history_df[\"action\"].apply(lambda action:bucket_map[action])\n",
    "for h in history_df_by_term:\n",
    "  h[\"bucket\"]=h[\"action\"].apply(lambda action:bucket_map[action])\n",
    "bills={bill_id:group for (bill_id,group) in history_df.groupby(\"bill_id\")}\n",
    "bill_ids = list(bills.keys())"
   ]
  },
  {
   "cell_type": "code",
   "execution_count": null,
   "metadata": {},
   "outputs": [],
   "source": [
    "import networkx as nx\n",
    "g_dict={}\n",
    "for bucket1 in bucket_names:\n",
    "  g_dict[bucket1]={}\n",
    "  for bucket2 in bucket_names:\n",
    "    g_dict[bucket1][bucket2]=0\n",
    "for bill_id in bill_ids:\n",
    "  buckets = list(bills[bill_id][\"bucket\"])\n",
    "  for i in range(len(buckets)):\n",
    "    for j in range(i+1,len(buckets)):\n",
    "      g_dict[buckets[i]][buckets[j]]+=1\n",
    "g=nx.DiGraph()\n",
    "for bucket1 in bucket_names:\n",
    "  for bucket2 in bucket_names:\n",
    "    if g_dict[bucket1][bucket2]>0:\n",
    "      g.add_edge(bucket1,bucket2,weight=g_dict[bucket1][bucket2])\n",
    "# del g_dict"
   ]
  },
  {
   "cell_type": "code",
   "execution_count": null,
   "metadata": {},
   "outputs": [],
   "source": [
    "def usually_comes_before(bucket1,bucket2):\n",
    "  return g_dict[bucket1][bucket2]-g_dict[bucket2][bucket1]\n"
   ]
  },
  {
   "cell_type": "code",
   "execution_count": null,
   "metadata": {},
   "outputs": [],
   "source": [
    "def check_comparator(comparator_func, test_data):\n",
    "    \"\"\"\n",
    "    Checks if a given comparator function appears to define a valid total order\n",
    "    based on a provided set of test data.\n",
    "    \"\"\"\n",
    "    # Check Reflexivity\n",
    "    for x in test_data:\n",
    "        if comparator_func(x, x) != 0:\n",
    "            print(f\"Reflexivity failed: cmp({x}, {x}) != 0\")\n",
    "            return False\n",
    "\n",
    "    # Check Anti-symmetry and Transitivity (simplified check)\n",
    "    for i in range(len(test_data)):\n",
    "        for j in range(len(test_data)):\n",
    "            a, b = test_data[i], test_data[j]\n",
    "            cmp_ab = comparator_func(a, b)\n",
    "            cmp_ba = comparator_func(b, a)\n",
    "            a_display=a[:20]\n",
    "            b_display=b[:20]\n",
    "            c_display=c[:20]\n",
    "\n",
    "            if cmp_ab < 0 and not (cmp_ba > 0):\n",
    "                print(f\"Anti-symmetry failed A: cmp({a_display}, {b_display}) < 0 but cmp({b_display}, {a_display}) not > 0\")\n",
    "                # return False\n",
    "            if cmp_ab > 0 and not (cmp_ba < 0):\n",
    "                print(f\"Anti-symmetry failed B: cmp({a_display}, {b_display}) > 0 but cmp({b_display}, {a_display}) not < 0\")\n",
    "                # return False\n",
    "            if cmp_ab == 0 and not (cmp_ba == 0):\n",
    "                print(f\"Anti-symmetry failed C: cmp({a_display}, {b_display}) == 0 but cmp({b_display}, {a_display}) != 0\")\n",
    "                # return False\n",
    "\n",
    "            for k in range(len(test_data)):\n",
    "                c = test_data[k]\n",
    "                cmp_bc = comparator_func(b, c)\n",
    "                cmp_ac = comparator_func(a, c)\n",
    "\n",
    "                # Transitivity check (simplified)\n",
    "                if cmp_ab < 0 and cmp_bc < 0 and not (cmp_ac <= 0):\n",
    "                    a=a[:20]\n",
    "                    b=b[:20]\n",
    "                    c=c[:20]\n",
    "                    display(f\"Transitivity failed A: {a_display}<{b_display}, {b_display}<{c_display}, but not {a_display}<{c_display}\")\n",
    "                    # return False\n",
    "                # if cmp_ab == 0 and cmp_bc == 0 and not (cmp_ac == 0):\n",
    "                #     print(f\"Transitivity failed B: {a}={b}, {b}={c}, but not {a}={c}\")\n",
    "                    # return False\n",
    "\n",
    "    # return True\n",
    "check_comparator(usually_comes_before,bucket_names)"
   ]
  },
  {
   "cell_type": "code",
   "execution_count": null,
   "metadata": {},
   "outputs": [],
   "source": [
    "print(g.number_of_nodes())"
   ]
  }
 ],
 "metadata": {
  "kernelspec": {
   "display_name": "py-env",
   "language": "python",
   "name": "python3"
  },
  "language_info": {
   "codemirror_mode": {
    "name": "ipython",
    "version": 3
   },
   "file_extension": ".py",
   "mimetype": "text/x-python",
   "name": "python",
   "nbconvert_exporter": "python",
   "pygments_lexer": "ipython3",
   "version": "3.13.5"
  }
 },
 "nbformat": 4,
 "nbformat_minor": 2
}
