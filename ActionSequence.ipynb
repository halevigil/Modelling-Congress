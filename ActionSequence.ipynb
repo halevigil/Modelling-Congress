{
 "cells": [
  {
   "cell_type": "code",
   "execution_count": null,
   "metadata": {},
   "outputs": [],
   "source": [
    "import json\n",
    "with open(\"outputs/buckets07-22_16:37.json\",\"r\") as file:\n",
    "  buckets = json.load(file)\n",
    "bucket_map={action:bucket[0] for bucket in buckets for action in bucket}"
   ]
  },
  {
   "cell_type": "code",
   "execution_count": null,
   "metadata": {},
   "outputs": [],
   "source": [
    "import pandas as pd\n",
    "bucket_names = [bucket[0] for bucket in buckets if type(bucket)==list and len(bucket)>0]\n",
    "datasets = [f\"data/US/{term*2+2009-222}-{term*2+2010-222}_{term}th_Congress/csv/history.csv\" for term in range(111,120)]\n",
    "history_df=pd.concat([pd.read_csv(dataset) for dataset in datasets])\n",
    "history_df[\"bucket\"]=history_df[\"action\"].apply(lambda action:bucket_map[action])\n",
    "llm_buckets = []\n",
    "# with open(\"./outputs/bucket_names_output.jsonl\", \"r\") as file:\n",
    "#   for line in file:\n",
    "#     if line.strip():  # Skip empty lines\n",
    "#       response = json.loads(line)\n",
    "#       llm_buckets.append(response[\"response\"][\"body\"][\"output\"][0][\"content\"][0][\"text\"])\n",
    "      \n",
    "# history_df[\"llm_bucket\"] = history_df[\"bucket\"].map(dict(zip(bucket_names, llm_buckets)))\n",
    "\n",
    "# Add next bill_id column to compare\n",
    "history_df[\"next_bill_id\"]=history_df[\"bill_id\"].shift(-1)\n",
    "history_df[\"next_bucket\"]=history_df[\"bucket\"].shift(-1)\n",
    "history_df[\"next_bucket\"]=history_df.apply(lambda row:row[\"next_bucket\"] if row[\"next_bill_id\"]==row[\"bill_id\"] else None,1)\n",
    "# history_df[\"next_bucket_llm\"]=history_df[\"llm_bucket\"].shift(-1)\n",
    "# history_df[\"next_llm_bucket\"]=history_df.apply(lambda row:row[\"next_bucket_llm\"] if row[\"next_bill_id\"]==row[\"bill_id\"] else None,1)\n",
    "\n",
    "\n",
    "\n",
    "\n",
    "\n",
    "# display(history_df)\n",
    "# for i,row in history_df.iterrows():\n",
    "#   print(row.bucket)\n",
    "# for action in history_df:\n",
    "#   history_df"
   ]
  },
  {
   "cell_type": "code",
   "execution_count": null,
   "metadata": {},
   "outputs": [],
   "source": [
    "display(history_df)"
   ]
  },
  {
   "cell_type": "code",
   "execution_count": null,
   "metadata": {},
   "outputs": [],
   "source": [
    "# Constructing the graph\n",
    "import networkx as nx\n",
    "g_dict={}\n",
    "for bucket1 in bucket_names:\n",
    "  g_dict[bucket1]={}\n",
    "  for bucket2 in bucket_names:\n",
    "    # print(bucket1,bucket2)\n",
    "    g_dict[bucket1][bucket2]=0\n",
    "  g_dict[bucket1][None]=0\n",
    "for i, row in history_df.iterrows():\n",
    "  # print(row[\"bucket\"])\n",
    "  # print(row[\"next_bucket\"])\n",
    "  g_dict[row[\"bucket\"]][row[\"next_bucket\"]]+=1\n",
    "g = nx.DiGraph()\n",
    "for bucket1 in bucket_names:\n",
    "  for bucket2 in bucket_names:\n",
    "    g.add_edge(bucket1,bucket2,weight=g_dict[bucket1][bucket2])\n",
    "display(g)\n",
    "del g_dict\n",
    "# for bucket1 in bucket_names:\n",
    "#   for bucket2 in bucket_names:\n",
    "#     g_dict[bucket1][bucket2]+=1\n",
    "# for bucket1 in bucket_names:\n",
    "#   for bucket2 in bucket_names:\n",
    "#     g.\n",
    "# g_tuples = {bucket:g_dict[bucket].items() for bucket in bucket_names}\n",
    "# display(g_tuples)"
   ]
  },
  {
   "cell_type": "code",
   "execution_count": null,
   "metadata": {},
   "outputs": [],
   "source": [
    "print(g.number_of_nodes())"
   ]
  },
  {
   "cell_type": "code",
   "execution_count": null,
   "metadata": {},
   "outputs": [],
   "source": [
    "import networkx as nx\n",
    "print(nx.diameter(g))\n",
    "# nx.draw(g)\n"
   ]
  }
 ],
 "metadata": {
  "kernelspec": {
   "display_name": "py-env",
   "language": "python",
   "name": "python3"
  },
  "language_info": {
   "codemirror_mode": {
    "name": "ipython",
    "version": 3
   },
   "file_extension": ".py",
   "mimetype": "text/x-python",
   "name": "python",
   "nbconvert_exporter": "python",
   "pygments_lexer": "ipython3",
   "version": "3.13.2"
  }
 },
 "nbformat": 4,
 "nbformat_minor": 2
}
