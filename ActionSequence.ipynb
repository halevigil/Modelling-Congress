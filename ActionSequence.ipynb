{
 "cells": [
  {
   "cell_type": "code",
   "execution_count": null,
   "metadata": {},
   "outputs": [],
   "source": [
    "import jsonimport json\n",
    "with open(\"outputs/buckets_07-24.json\",\"r\") as file:\n",
    "  buckets = json.load(file)\n",
    "bucket_map={action:bucket for bucket in buckets for action in buckets[bucket]}\n",
    "bucket_names = list(buckets.keys())\n",
    "with open(\"outputs/buckets_07-24.json\",\"r\") as file:\n",
    "  buckets = json.load(file)\n",
    "bucket_names = list(buckets.keys())"
   ]
  },
  {
   "cell_type": "code",
   "execution_count": null,
   "metadata": {},
   "outputs": [],
   "source": [
    "import pandas as pd\n",
    "datasets = [f\"data/US/{term*2+2009-222}-{term*2+2010-222}_{term}th_Congress/csv/history.csv\" for term in range(111,120)]\n",
    "history_df_by_term=[pd.read_csv(ds) for ds in datasets]\n",
    "history_df=pd.concat([pd.read_csv(dataset) for dataset in datasets])\n",
    "# with open(\"./outputs/bucket_names_output.jsonl\", \"r\") as file:\n",
    "#   for line in file:\n",
    "#     if line.strip():  # Skip empty lines\n",
    "#       response = json.loads(line)\n",
    "#       llm_buckets.append(response[\"response\"][\"body\"][\"output\"][0][\"content\"][0][\"text\"])\n",
    "      \n",
    "# history_df[\"llm_bucket\"] = history_df[\"bucket\"].map(dict(zip(bucket_names, llm_buckets)))\n",
    "\n",
    "# Add next bill_id column to compare\n",
    "history_df[\"bucket\"]=history_df[\"action\"].apply(lambda action:bucket_map[action])\n",
    "history_df[\"next_bill_id\"]=history_df[\"bill_id\"].shift(-1)\n",
    "history_df[\"next_bucket\"]=history_df[\"bucket\"].shift(-1)\n",
    "history_df[\"next_bucket\"]=history_df.apply(lambda row:row[\"next_bucket\"] if row[\"next_bill_id\"]==row[\"bill_id\"] else None,1)\n",
    "for h in history_df_by_term:\n",
    "  h[\"bucket\"]=h[\"action\"].apply(lambda action:bucket_map[action])\n",
    "  h[\"next_bill_id\"]=h[\"bill_id\"].shift(-1)\n",
    "  h[\"next_bucket\"]=h[\"bucket\"].shift(-1)\n",
    "  h[\"next_bucket\"]=h.apply(lambda row:row[\"next_bucket\"] if row[\"next_bill_id\"]==row[\"bill_id\"] else None,1)\n",
    "\n",
    "# history_df[\"next_bucket_llm\"]=history_df[\"llm_bucket\"].shift(-1)\n",
    "# history_df[\"next_llm_bucket\"]=history_df.apply(lambda row:row[\"next_bucket_llm\"] if row[\"next_bill_id\"]==row[\"bill_id\"] else None,1)\n",
    "\n",
    "\n",
    "\n",
    "\n",
    "\n",
    "# display(history_df)\n",
    "# for i,row in history_df.iterrows():\n",
    "#   print(row.bucket)\n",
    "# for action in history_df:\n",
    "#   history_df"
   ]
  },
  {
   "cell_type": "code",
   "execution_count": null,
   "metadata": {},
   "outputs": [],
   "source": []
  },
  {
   "cell_type": "code",
   "execution_count": null,
   "metadata": {},
   "outputs": [],
   "source": [
    "with open(\"outputs/bucket_names_07-24.txt\",\"w\") as file:\n",
    "  for name in bucket_names:\n",
    "    file.write(name)\n",
    "    file.write(\"\\n\")"
   ]
  },
  {
   "cell_type": "code",
   "execution_count": null,
   "metadata": {},
   "outputs": [],
   "source": [
    "introduced_in_senate=[\"Introduced in the Senate and read twice and ordered held at desk by unanimous consent. (Actions considered to have occured on 10/29/19 pursuant to the order of 11/12/19).\",\n",
    "\"Introduced in the Senate, read the first time.\",\n",
    "\"Introduced in the Senate, read twice, considered, read the third time, and passed without amendment and with a preamble by Unanimous Consent. (consideration: CR S1258-1260; text: CR S1259)\",\n",
    "\"Introduced in the Senate, read twice, considered, read the third time, and passed without amendment by Voice Vote. (consideration: CR S1281-1282; text: CR S1281-1282)\",\n",
    "\"Introduced in the Senate, read twice.\",\n",
    "\"Introduced in the Senate.\",\n",
    "\"Introduced in the Senate. Pursuant to Public Law 117-71, Ordered Placed on Senate Legislative Calendar under General Orders. Calendar No. 184.\",\n",
    "\"Introduced in the Senate. Read the first time. Placed on Senate Legislative Calendar under Read the First Time.\",\n",
    "\"Introduced in the Senate. Read twice. Placed on Senate Legislative Calendar under General Orders. Calendar No. 223 pursuant to Sec. 1002 of Public Law 113-46. (text of measure as introduced: CR S7580)\",\n",
    "\"Introduced in the Senate. Read twice. Placed on Senate Legislative Calendar under General Orders. Calendar No. 350.\",\n",
    "\"Introduced in the Senate. Read twice. Pursuant to the order of 2/14/2013 Placed on Senate Legislative Calendar under General Orders. Calendar No. 18.\"]\n",
    "print(len(history_df[history_df['bucket'].isin(introduced_in_senate)]))"
   ]
  },
  {
   "cell_type": "code",
   "execution_count": null,
   "metadata": {
    "vscode": {
     "languageId": "lua"
    }
   },
   "outputs": [],
   "source": [
    "bill_groups = {bill_id: group for bill_id, group in history_df.groupby('bill_id')}\n",
    "display(bill_groups)\n",
    "-- bills_passed = {bill_id: bill_groups[bill_id] for bill_id in history_df.groupby(\"bill_id\") }"
   ]
  },
  {
   "cell_type": "code",
   "execution_count": null,
   "metadata": {},
   "outputs": [],
   "source": [
    "display(history_df_by_term[1])"
   ]
  },
  {
   "cell_type": "code",
   "execution_count": null,
   "metadata": {},
   "outputs": [],
   "source": [
    "# Constructing the graph\n",
    "import networkx as nx\n",
    "def df_to_graph(df):\n",
    "  g_dict={}\n",
    "  for bucket1 in bucket_names:\n",
    "    g_dict[bucket1]={}\n",
    "    for bucket2 in bucket_names:\n",
    "      # print(bucket1,bucket2)\n",
    "      g_dict[bucket1][bucket2]=0\n",
    "    g_dict[bucket1][None]=0\n",
    "  for i, row in df.iterrows():\n",
    "    # print(row[\"bucket\"])\n",
    "    # print(row[\"next_bucket\"])\n",
    "    g_dict[row[\"bucket\"]][row[\"next_bucket\"]]+=1\n",
    "  g = nx.DiGraph()\n",
    "\n",
    "  for bucket in bucket_names:\n",
    "    g.add_node(bucket)\n",
    "  max_weight=0\n",
    "  for bucket1 in bucket_names:\n",
    "    for bucket2 in bucket_names:\n",
    "      # if bucket1==bucket2:\n",
    "      #   continue\n",
    "      if g_dict[bucket1][bucket2]!=0:\n",
    "        g.add_edge(bucket1,bucket2,weight=g_dict[bucket1][bucket2])\n",
    "  # for name in bucket_names:\n",
    "  #   if g_dict[name][name]!=0:\n",
    "  #     g.add_edge(name,name+\"_2\",weight=g_dict[name][name])\n",
    "  return g\n",
    "\n",
    "g_overall = df_to_graph(history_df)\n",
    "g_by_term = [df_to_graph(h) for h in history_df_by_term]\n",
    "# for bucket1 in bucket_names:\n",
    "#   for bucket2 in bucket_names:\n",
    "#     g_dict[bucket1][bucket2]+=1\n",
    "# for bucket1 in bucket_names:\n",
    "#   for bucket2 in bucket_names:\n",
    "#     g.\n",
    "# g_tuples = {bucket:g_dict[bucket].items() for bucket in bucket_names}\n",
    "# display(g_tuples)"
   ]
  },
  {
   "cell_type": "code",
   "execution_count": null,
   "metadata": {},
   "outputs": [],
   "source": [
    "print(max([(deg,node) for node,deg in g.in_degree(weight=None) ]))"
   ]
  },
  {
   "cell_type": "code",
   "execution_count": null,
   "metadata": {},
   "outputs": [],
   "source": [
    "print(inv_bucket_map['Placed on the House Calendar, Calendar No. 1.'])"
   ]
  },
  {
   "cell_type": "code",
   "execution_count": null,
   "metadata": {},
   "outputs": [],
   "source": [
    "def bucket_names_repeated(times):\n",
    "  return [name for name in bucket_names if len(inv_bucket_map[name])>=times]"
   ]
  },
  {
   "cell_type": "code",
   "execution_count": null,
   "metadata": {},
   "outputs": [],
   "source": [
    "display([len(sorted(list(nx.strongly_connected_components(g)),key=len,reverse=True)[0]) for g in g_by_term])"
   ]
  },
  {
   "cell_type": "code",
   "execution_count": null,
   "metadata": {},
   "outputs": [],
   "source": [
    "introduced_in_senate=[\"Introduced in the Senate and read twice and ordered held at desk by unanimous consent. (Actions considered to have occured on 10/29/19 pursuant to the order of 11/12/19).\",\n",
    "\"Introduced in the Senate, read the first time.\",\n",
    "\"Introduced in the Senate, read twice, considered, read the third time, and passed without amendment and with a preamble by Unanimous Consent. (consideration: CR S1258-1260; text: CR S1259)\",\n",
    "\"Introduced in the Senate, read twice, considered, read the third time, and passed without amendment by Voice Vote. (consideration: CR S1281-1282; text: CR S1281-1282)\",\n",
    "\"Introduced in the Senate, read twice.\",\n",
    "\"Introduced in the Senate.\",\n",
    "\"Introduced in the Senate. Pursuant to Public Law 117-71, Ordered Placed on Senate Legislative Calendar under General Orders. Calendar No. 184.\",\n",
    "\"Introduced in the Senate. Read the first time. Placed on Senate Legislative Calendar under Read the First Time.\",\n",
    "\"Introduced in the Senate. Read twice. Placed on Senate Legislative Calendar under General Orders. Calendar No. 223 pursuant to Sec. 1002 of Public Law 113-46. (text of measure as introduced: CR S7580)\",\n",
    "\"Introduced in the Senate. Read twice. Placed on Senate Legislative Calendar under General Orders. Calendar No. 350.\",\n",
    "\"Introduced in the Senate. Read twice. Pursuant to the order of 2/14/2013 Placed on Senate Legislative Calendar under General Orders. Calendar No. 18.\"]"
   ]
  },
  {
   "cell_type": "code",
   "execution_count": null,
   "metadata": {},
   "outputs": [],
   "source": [
    "print(dict(g_by_term[2].in_degree())[\"Became Private Law No: 111-2.\"])"
   ]
  },
  {
   "cell_type": "code",
   "execution_count": null,
   "metadata": {},
   "outputs": [],
   "source": [
    "for g in g_by_term:\n",
    "  centr=nx.betweenness_centrality_subset(sources=bucket_names,targets=[\"Signed by President.\"],G=g,weight=\"weight\")\n",
    "  # display(centr[\"Pursuant to the provisions of H. Con. Res. 104, enrollment corrections on H.R. 1892 have been made.\"])\n",
    "  # centr=nx.betweenness_centrality_subset(sources=introduced_in_senate+[\"Introduced in House\"]+[\"Referred to the Committee on Agriculture, and in addition to the Committee on Appropriations, for a period to be subsequently determined by the Speaker, in each case for consideration of such provisions as fall within the jurisdiction of the committee concerned.\"],targets=[\"Became Private Law No: 111-2.\"],G=g,weight=\"weight\")\n",
    "  display(sorted([(centr[x],x) for x in centr if centr[x]>0],reverse=True))"
   ]
  },
  {
   "cell_type": "code",
   "execution_count": null,
   "metadata": {},
   "outputs": [],
   "source": [
    "# centr=nx.betweenness_centrality_subset(sources=bucket_names,targets=[\"Became Private Law No: 111-2.\"],G=g,weight=\"weight\")"
   ]
  },
  {
   "cell_type": "code",
   "execution_count": null,
   "metadata": {},
   "outputs": [],
   "source": []
  },
  {
   "cell_type": "code",
   "execution_count": null,
   "metadata": {},
   "outputs": [],
   "source": [
    "print(inv_bucket_map[\"Introduced in House\"])"
   ]
  },
  {
   "cell_type": "code",
   "execution_count": null,
   "metadata": {},
   "outputs": [],
   "source": [
    "out_degs= dict(g.out_degree(weight=\"weight\"))\n",
    "# display(out_degs)\n",
    "common_nodes=[x for x in out_degs if out_degs[x]>=10]\n",
    "common_node_g=g.subgraph(common_nodes)\n",
    "# display(out_degs)\n",
    "connected_subgraph=g.subgraph(sorted(nx.strongly_connected_components(common_node_g),key=len,reverse=True)[0])\n",
    "# display(connected_subgraph)\n",
    "# connected_subgraph_common_nodes=connected_subgraph.subgraph(sorted(connected_subgraph.out_degree())"
   ]
  },
  {
   "cell_type": "code",
   "execution_count": null,
   "metadata": {},
   "outputs": [],
   "source": [
    "display(bucket_names)"
   ]
  },
  {
   "cell_type": "code",
   "execution_count": null,
   "metadata": {},
   "outputs": [],
   "source": [
    "min_cut=list(nx.minimum_edge_cut(connected_subgraph))\n",
    "print(len(min_cut))\n",
    "# print(min_cut)\n",
    "display(min_cut,connected_subgraph.get_edge_data(min_cut[0],min_cut[1]))"
   ]
  },
  {
   "cell_type": "code",
   "execution_count": null,
   "metadata": {},
   "outputs": [],
   "source": [
    "print(inv_bucket_map[\"Committee Consideration and Mark-up Session Held\"])"
   ]
  },
  {
   "cell_type": "code",
   "execution_count": null,
   "metadata": {},
   "outputs": [],
   "source": [
    "display(list(g.predecessors('the motion to favorably report was withdrawn by unanimous consent')))"
   ]
  },
  {
   "cell_type": "code",
   "execution_count": null,
   "metadata": {},
   "outputs": [],
   "source": []
  },
  {
   "cell_type": "code",
   "execution_count": null,
   "metadata": {},
   "outputs": [],
   "source": [
    "min_cut=nx.is_strongly_connected(connected_subgraph)\n",
    "display(min_cut)"
   ]
  },
  {
   "cell_type": "code",
   "execution_count": null,
   "metadata": {},
   "outputs": [],
   "source": [
    "display([len(x) for x in nx.strongly_connected_components(g)])"
   ]
  },
  {
   "cell_type": "code",
   "execution_count": null,
   "metadata": {},
   "outputs": [],
   "source": [
    "print(nx.to_pandas_edgelist(g))"
   ]
  },
  {
   "cell_type": "code",
   "execution_count": null,
   "metadata": {},
   "outputs": [],
   "source": [
    "import networkx as nx\n",
    "components=nx.strongly_connected_components(g)\n",
    "display(len([comp for comp in components][0]))\n",
    "# nx.draw(g)\n"
   ]
  },
  {
   "cell_type": "code",
   "execution_count": null,
   "metadata": {},
   "outputs": [],
   "source": []
  }
 ],
 "metadata": {
  "kernelspec": {
   "display_name": "py-env",
   "language": "python",
   "name": "python3"
  },
  "language_info": {
   "codemirror_mode": {
    "name": "ipython",
    "version": 3
   },
   "file_extension": ".py",
   "mimetype": "text/x-python",
   "name": "python",
   "nbconvert_exporter": "python",
   "pygments_lexer": "ipython3",
   "version": "3.13.5"
  }
 },
 "nbformat": 4,
 "nbformat_minor": 2
}
