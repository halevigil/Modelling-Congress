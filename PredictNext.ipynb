{
 "cells": [
  {
   "cell_type": "code",
   "execution_count": null,
   "metadata": {},
   "outputs": [],
   "source": [
    "import json\n",
    "import pandas as pd\n",
    "with open(\"outputs/buckets_07-29_charsim17.json\",\"r\") as file:\n",
    "  buckets = json.load(file)\n",
    "bucket_map={}\n",
    "for name in buckets:\n",
    "  for action in buckets[name]:\n",
    "    bucket_map[action]=name\n",
    "common_bucket_names = [name for name in buckets.keys() if len(buckets[name])>=10]\n",
    "common_bucket_names_inv={name:i for i,name in enumerate(common_bucket_names)}\n",
    "datasets = [f\"data/US/{term*2+2009-222}-{term*2+2010-222}_{term}th_Congress/csv/history.csv\" for term in range(111,120)]\n",
    "history_df_by_term=[pd.read_csv(ds) for ds in datasets]\n",
    "for i,df in enumerate(history_df_by_term):\n",
    "  df[\"term\"]=i+111\n",
    "history_df=pd.concat(history_df_by_term)\n",
    "# with open(\"./outputs/bucket_names_output.jsonl\", \"r\") as file:\n",
    "#   for line in file:\n",
    "#     if line.strip():  # Skip empty lines\n",
    "#       response = json.loads(line)\n",
    "#       llm_buckets.append(response[\"response\"][\"body\"][\"output\"][0][\"content\"][0][\"text\"])\n",
    "      \n",
    "# history_df[\"llm_bucket\"] = history_df[\"bucket\"].map(dict(zip(bucket_names, llm_buckets)))\n",
    "\n",
    "# Add next bill_id column to compare\n",
    "history_df[\"bucket\"]=history_df[\"action\"].apply(lambda action:bucket_map[action])\n",
    "bills={bill_id:group for (bill_id,group) in history_df.groupby(\"bill_id\")}\n",
    "bill_ids = list(bills.keys())\n"
   ]
  },
  {
   "cell_type": "code",
   "execution_count": null,
   "metadata": {},
   "outputs": [],
   "source": [
    "print(len(common_bucket_names))"
   ]
  },
  {
   "cell_type": "code",
   "execution_count": null,
   "metadata": {},
   "outputs": [],
   "source": [
    "import numpy as np\n",
    "\n",
    "alpha=2/3\n",
    "data=[]\n",
    "MIN_TERM=min(history_df[\"term\"])\n",
    "MAX_TERM=max(history_df[\"term\"])\n",
    "N_TERMS=MAX_TERM-MIN_TERM+1\n",
    "\n",
    "bill_id=history_df.iloc[0][\"bill_id\"]\n",
    "predecessors_vec=np.zeros(len(common_bucket_names))\n",
    "predecessor_vec=np.zeros(len(common_bucket_names))\n",
    "one_hot_curr = np.zeros(len(common_bucket_names))\n",
    "inputs=[]\n",
    "outputs=[]\n",
    "for i,row in history_df.iterrows():\n",
    "  one_hot_prev = np.copy(one_hot_curr)\n",
    "  if row[\"bill_id\"]!=bill_id:\n",
    "    bill_id=row[\"bill_id\"]\n",
    "    one_hot_prev=np.zeros(len(common_bucket_names))\n",
    "    predecessors_vec=np.zeros(len(common_bucket_names))\n",
    "    predecessor_vec=np.zeros(len(common_bucket_names))\n",
    "  one_hot_curr = np.zeros(len(common_bucket_names))\n",
    "  if row.bucket in common_bucket_names_inv:\n",
    "    one_hot_curr[common_bucket_names_inv[row.bucket]]=1\n",
    "  predecessor_vec=(1-alpha)*one_hot_prev+alpha*predecessor_vec\n",
    "  if row.bucket in common_bucket_names_inv:\n",
    "    one_hot_curr[common_bucket_names_inv[row.bucket]]=1\n",
    "  predecessors_vec+=one_hot_prev\n",
    "  one_hot_term=np.zeros(N_TERMS)\n",
    "  one_hot_term[row.term-MIN_TERM]=1\n",
    "  input_vec = np.concat([predecessor_vec,predecessors_vec,one_hot_term])\n",
    "  data.append({\"predecessor\":predecessor_vec,\"predecessors\":predecessors_vec,\"term\":one_hot_term,\"output\":one_hot_curr})\n",
    "# inputs=np.stack(inputs)\n",
    "# outputs=np.stack(outputs)\n",
    "# np.savetxt(\"outputs/vectors/07-29_charsim17/input\",inputs[0])\n",
    "# np.savetxt(\"outputs/vectors/07-29_charsim17/output\",outputs)"
   ]
  }
 ],
 "metadata": {
  "kernelspec": {
   "display_name": "billanalysis",
   "language": "python",
   "name": "python3"
  },
  "language_info": {
   "codemirror_mode": {
    "name": "ipython",
    "version": 3
   },
   "file_extension": ".py",
   "mimetype": "text/x-python",
   "name": "python",
   "nbconvert_exporter": "python",
   "pygments_lexer": "ipython3",
   "version": "3.13.5"
  }
 },
 "nbformat": 4,
 "nbformat_minor": 2
}
