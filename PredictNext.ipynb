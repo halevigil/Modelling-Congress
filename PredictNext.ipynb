{
 "cells": [
  {
   "cell_type": "code",
   "execution_count": null,
   "metadata": {},
   "outputs": [],
   "source": [
    "import json\n",
    "import pandas as pd\n",
    "with open(\"outputs/buckets_07-28_textsim17.json\",\"r\") as file:\n",
    "  buckets = json.load(file)\n",
    "bucket_map={}\n",
    "for name in buckets:\n",
    "  for action in buckets[name]:\n",
    "    bucket_map[action]=name\n",
    "bucket_names = list(buckets.keys())\n",
    "bucket_names_inv={i:name for i,name in enumerate(bucket_names)}\n",
    "datasets = [f\"data/US/{term*2+2009-222}-{term*2+2010-222}_{term}th_Congress/csv/history.csv\" for term in range(111,120)]\n",
    "history_df_by_term=[pd.read_csv(ds) for ds in datasets]\n",
    "history_df=pd.concat([pd.read_csv(dataset) for dataset in datasets])\n",
    "# with open(\"./outputs/bucket_names_output.jsonl\", \"r\") as file:\n",
    "#   for line in file:\n",
    "#     if line.strip():  # Skip empty lines\n",
    "#       response = json.loads(line)\n",
    "#       llm_buckets.append(response[\"response\"][\"body\"][\"output\"][0][\"content\"][0][\"text\"])\n",
    "      \n",
    "# history_df[\"llm_bucket\"] = history_df[\"bucket\"].map(dict(zip(bucket_names, llm_buckets)))\n",
    "\n",
    "# Add next bill_id column to compare\n",
    "history_df[\"bucket\"]=history_df[\"action\"].apply(lambda action:bucket_map[action])\n",
    "for h in history_df_by_term:\n",
    "  h[\"bucket\"]=h[\"action\"].apply(lambda action:bucket_map[action])\n",
    "bills={bill_id:group for (bill_id,group) in history_df.groupby(\"bill_id\")}\n",
    "bill_ids = list(bills.keys())"
   ]
  },
  {
   "cell_type": "code",
   "execution_count": null,
   "metadata": {},
   "outputs": [],
   "source": [
    "import numpy as np\n",
    "\n",
    "alpha=2/3\n",
    "data=[]\n",
    "\n",
    "for h in history_df_by_term:\n",
    "  bill_id=h.iloc[0][\"bill_id\"]\n",
    "  predecessors_vec=np.zeroes(len(bucket_names))\n",
    "  for i,row in h.iterrows():\n",
    "    predecessor_vec=np.zeroes(len(bucket_names))\n",
    "    if row[\"bill_id\"]!=bill_id:\n",
    "      bill_id=row[\"bill_id\"]\n",
    "      predecessors_vec=np.zeroes(len(bucket_names))\n",
    "      predecessor_vec=np.zeroes(len(bucket_names))\n",
    "    one_hot_curr = np.zeroes(len(bucket_names))\n",
    "    one_hot_curr[bucket_names_inv[row[\"bucket\"]]]=1\n",
    "    predecessor_vec=(1-alpha)*one_hot_curr+alpha*predecessor_vec\n",
    "    predecessors_vec[bucket_names_inv[row.action]]+=1\n",
    "    data.append({\"predecessor_vec\":predecessor_vec,\"predecessors_vec\":predecessors_vec,\"output\":one_hot_curr})\n",
    "      "
   ]
  }
 ],
 "metadata": {
  "kernelspec": {
   "display_name": "py-env",
   "language": "python",
   "name": "python3"
  },
  "language_info": {
   "codemirror_mode": {
    "name": "ipython",
    "version": 3
   },
   "file_extension": ".py",
   "mimetype": "text/x-python",
   "name": "python",
   "nbconvert_exporter": "python",
   "pygments_lexer": "ipython3",
   "version": "3.13.5"
  }
 },
 "nbformat": 4,
 "nbformat_minor": 2
}
