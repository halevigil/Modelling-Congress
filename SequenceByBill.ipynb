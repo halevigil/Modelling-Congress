{
 "cells": [
  {
   "cell_type": "code",
   "execution_count": null,
   "metadata": {},
   "outputs": [],
   "source": [
    "import json\n",
    "with open(\"outputs/buckets_07-24.json\",\"r\") as file:\n",
    "  buckets = json.load(file)\n",
    "bucket_map={action:bucket[0] for bucket in buckets for action in bucket}\n",
    "inv_bucket_map={bucket[0]:bucket for bucket in buckets}\n",
    "bucket_names = [bucket[0] for bucket in buckets]"
   ]
  },
  {
   "cell_type": "code",
   "execution_count": null,
   "metadata": {},
   "outputs": [],
   "source": [
    "import pandas as pd\n",
    "datasets = [f\"data/US/{term*2+2009-222}-{term*2+2010-222}_{term}th_Congress/csv/history.csv\" for term in range(111,120)]\n",
    "history_df_by_term=[pd.read_csv(ds) for ds in datasets]\n",
    "history_df=pd.concat([pd.read_csv(dataset) for dataset in datasets])\n",
    "# with open(\"./outputs/bucket_names_output.jsonl\", \"r\") as file:\n",
    "#   for line in file:\n",
    "#     if line.strip():  # Skip empty lines\n",
    "#       response = json.loads(line)\n",
    "#       llm_buckets.append(response[\"response\"][\"body\"][\"output\"][0][\"content\"][0][\"text\"])\n",
    "      \n",
    "# history_df[\"llm_bucket\"] = history_df[\"bucket\"].map(dict(zip(bucket_names, llm_buckets)))\n",
    "\n",
    "# Add next bill_id column to compare\n",
    "history_df[\"bucket\"]=history_df[\"action\"].apply(lambda action:bucket_map[action])\n",
    "for h in history_df_by_term:\n",
    "  h[\"bucket\"]=h[\"action\"].apply(lambda action:bucket_map[action])\n",
    "# history_df[\"next_bucket_llm\"]=history_df[\"llm_bucket\"].shift(-1)\n",
    "# history_df[\"next_llm_bucket\"]=history_df.apply(lambda row:row[\"next_bucket_llm\"] if row[\"next_bill_id\"]==row[\"bill_id\"] else None,1)\n",
    "\n",
    "\n",
    "bill_groups={bill_id:group for (bill_id,group) in history_df.groupby(\"bill_id\")}\n",
    "\n",
    "\n",
    "# display(history_df)\n",
    "# for i,row in history_df.iterrows():\n",
    "#   print(row.bucket)\n",
    "# for action in history_df:\n",
    "#   history_df"
   ]
  },
  {
   "cell_type": "code",
   "execution_count": null,
   "metadata": {},
   "outputs": [],
   "source": [
    "for bill_id in bill_groups:\n",
    "  display(bill_groups[bill_id][\"bucket\"])\n",
    "  break"
   ]
  },
  {
   "cell_type": "code",
   "execution_count": null,
   "metadata": {},
   "outputs": [],
   "source": [
    "bill_groups_ending_in_passage = {bill_id:bill_groups[bill_id] for bill_id in bill_groups if \"Became Private Law No: 111-2.\" in bill_groups[bill_id][\"bucket\"]\n",
    "or \"Became Public Law No: 111-1.\" in bill_groups[bill_id][\"bucket\"]}"
   ]
  },
  {
   "cell_type": "code",
   "execution_count": null,
   "metadata": {},
   "outputs": [],
   "source": [
    "display(bill_groups_ending_in_passage)"
   ]
  }
 ],
 "metadata": {
  "kernelspec": {
   "display_name": "py-env",
   "language": "python",
   "name": "python3"
  },
  "language_info": {
   "codemirror_mode": {
    "name": "ipython",
    "version": 3
   },
   "file_extension": ".py",
   "mimetype": "text/x-python",
   "name": "python",
   "nbconvert_exporter": "python",
   "pygments_lexer": "ipython3",
   "version": "3.13.5"
  }
 },
 "nbformat": 4,
 "nbformat_minor": 2
}
