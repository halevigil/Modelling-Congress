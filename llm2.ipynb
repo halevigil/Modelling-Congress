{
 "cells": [
  {
   "cell_type": "code",
   "execution_count": null,
   "metadata": {},
   "outputs": [],
   "source": [
    "import dotenv\n",
    "import openai\n",
    "import os\n",
    "dotenv.load_dotenv()\n",
    "client = openai.Client(api_key=os.environ[\"OPENAI_API_KEY\"])\n",
    "display(list(client.batches.list()))"
   ]
  },
  {
   "cell_type": "code",
   "execution_count": null,
   "metadata": {},
   "outputs": [],
   "source": [
    "client.batches.create(extra_headers={\"name\":})"
   ]
  },
  {
   "cell_type": "code",
   "execution_count": null,
   "metadata": {},
   "outputs": [],
   "source": [
    "\n",
    "import json\n",
    "import random\n",
    "import numpy as np\n",
    "with open(\"outputs/07-23/buckets.json\",\"r\") as file:\n",
    "  buckets = json.load(file)\n",
    "bucket_names_to_bucket={bucket[0]:bucket for bucket in buckets}\n",
    "bucket_names=list(bucket_names_to_bucket)\n",
    "random.seed(1423)\n",
    "bucket_names_str=\"\\n\".join(random.sample(bucket_names,k=20))\n",
    "BATCH_SIZE=500\n",
    "bucket_names_batches=np.split(np.array(bucket_names),range(BATCH_SIZE,len(bucket_names),BATCH_SIZE))"
   ]
  },
  {
   "cell_type": "code",
   "execution_count": null,
   "metadata": {},
   "outputs": [],
   "source": [
    "# Prepare batch to come up with names for each bucket\n",
    "\n",
    "for batch_i in range(len(buckets)//BATCH_SIZE+1):\n",
    "  input_len=0\n",
    "  with open(f\"outputs/llm_name_buckets/07-22_16:37/input/batch{batch_i}.jsonl\",\"w\") as file:\n",
    "    for i,bucket_name in enumerate(bucket_names_batches[batch_i]):\n",
    "      input=f\"\"\"I am analyzing a dataset full of Congressional actions. I have categorized these actions into buckets,\\\n",
    "      where each bucket has near-identical actions, usually differing only in the names/numbers of congresspeople,bills,votes,and committees. \\\n",
    "      I want to come up with names for these buckets. These names are usually just the actions with names/numbers of congresspeople, bills, votes and committees removed.\n",
    "      First, here is a sample of one action from the 20 buckets chosen at random:\\n\n",
    "      {bucket_names_str}\\n\n",
    "      Here are some example names you might give to bucket actions:\\n\n",
    "      Action from bucket: Mr. Whitfield moved that the Committee now rise.\\n\n",
    "      Bucket name: Congressperson moved the Committee now rise.\\n\\n\n",
    "      Action from bucket: The House resumed with the motion to agree in the Senate amendment to H.R. 83, with an amendment. (consideration: CR H9284-9290)\\n\n",
    "      Bucket name: The House resumed with the motion to agree in the Senate amendment to the bill, with an amendment.\\n\\n\n",
    "      Action from bucket: Subcommittee Consideration and Mark-up Session Held and Forwarded to Full Committee by the Subcommittee on Capital Markets and Government Sponsored Enterprises Prior to Introduction and Referral Revised discussion draft, as amended, ordered favorably reported to the full committee by the subcommittee on Capital Markets and Government Sponsored Enterprises\\n\n",
    "      Bucket name: Subcommittee Consideration and Mark-up Session Held and Forwarded to Full Committee by the Subcommittee Prior to Introduction and Referral. Revised discussion draft, as amended, ordered favorably reported to the full committee by the subcommittee\\n\\n\n",
    "      Action from bucket: Passed Senate with amendments by Yea-Nay. 93 - 7. Record Vote Number: 218.\\n\n",
    "      Bucket name: Passed Senate with amendments by Yea-Nay.\\n\\n\n",
    "      \n",
    "      Now, please come up with a name for the bucket with the following actions. Please only give me the name, nothing else in your response.\n",
    "      If there is only one line, it means the bucket has only one action:\\n\n",
    "      {\"\\n\".join(random.sample(bucket_names_to_bucket[bucket_name],k=20) if len(bucket_names_to_bucket[bucket_name])>20 else bucket_names_to_bucket[bucket_name])}\"\"\"\n",
    "    \n",
    "      input_len+=len(input)\n",
    "      json.dump({\"custom_id\":\"action\"+str(i),\"url\":\"/v1/responses\",\"method\":\"POST\",\"body\":{\"input\":input,\"model\":\"gpt-4.1-mini\"}}, file)\n",
    "      file.write(\"\\n\")\n",
    "    # manual_name_to_llm_reponse[bucket_name]=client.responses.create(input=input,model=\"gpt-4.1-mini\")\n",
    "    # print(bucket_name)\n",
    "  print(input_len)"
   ]
  },
  {
   "cell_type": "code",
   "execution_count": null,
   "metadata": {},
   "outputs": [],
   "source": [
    "# Load OpenAI client\n",
    "import dotenv\n",
    "import os\n",
    "import openai\n",
    "import asyncio\n",
    "import json\n",
    "import time\n",
    "dotenv.load_dotenv()\n",
    "client = openai.Client(api_key=os.environ[\"OPENAI_API_KEY\"])\n",
    "statuses=[batch.status for batch in client.batches.list()]\n",
    "while \"cancelling\" in statuses or \"in_progress\" in statuses:\n",
    "  time.sleep(60)\n",
    "  statuses=[batch.status for batch in client.batches.list()]\n",
    "print(\"starting batches\")\n",
    "for batch_i in range(1,len(buckets)//BATCH_SIZE+1):\n",
    "  with open(f\"outputs/llm_name_buckets/07-22_16:37/input/batch{batch_i}.jsonl\",\"rb\") as file:\n",
    "    batch_file=client.files.create(file=file,purpose=\"batch\")\n",
    "  batch=client.batches.create(input_file_id=batch_file.id,endpoint=\"/v1/responses\",completion_window=\"24h\")\n",
    "  print(batch.id)\n",
    "  while client.batches.retrieve(batch_id=batch.id).status!=\"completed\":\n",
    "    if batch.status==\"failed\":\n",
    "      break\n",
    "    time.sleep(60)\n",
    "  with open(f\"outputs/llm_name_buckets/07-22_16:37/output/batch{batch_i}.jsonl\",\"w\") as file:\n",
    "    file.write(client.files.content(file_id=client.batches.retrieve(batch_id=batch.id).output_file_id).text)\n",
    "  print(f\"finished batch {batch_i}\")\n",
    "  time.sleep(180)"
   ]
  },
  {
   "cell_type": "code",
   "execution_count": null,
   "metadata": {},
   "outputs": [],
   "source": [
    "\n",
    "with open(f\"outputs/llm_name_buckets/07-22_16:37/output/batch0.jsonl\",\"w\") as file:\n",
    "  file.write(client.files.content(file_id=list(client.batches.list())[0].output_file_id).text)"
   ]
  }
 ],
 "metadata": {
  "kernelspec": {
   "display_name": "billanalysis-2",
   "language": "python",
   "name": "python3"
  },
  "language_info": {
   "codemirror_mode": {
    "name": "ipython",
    "version": 3
   },
   "file_extension": ".py",
   "mimetype": "text/x-python",
   "name": "python",
   "nbconvert_exporter": "python",
   "pygments_lexer": "ipython3",
   "version": "3.13.5"
  }
 },
 "nbformat": 4,
 "nbformat_minor": 2
}
